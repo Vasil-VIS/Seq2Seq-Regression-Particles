{
 "cells": [
  {
   "cell_type": "markdown",
   "id": "dde28458",
   "metadata": {
    "id": "dde28458"
   },
   "source": [
    "# Loading Data and Preliminaries"
   ]
  },
  {
   "cell_type": "code",
   "execution_count": 10,
   "id": "7d0580a5",
   "metadata": {
    "id": "7d0580a5"
   },
   "outputs": [],
   "source": [
    "import matplotlib.pyplot as plt\n",
    "import matplotlib\n",
    "import numpy as np\n",
    "import pandas as pd\n",
    "import torch\n",
    "from copy import deepcopy\n",
    "from torch.utils.data import Dataset, DataLoader,TensorDataset\n",
    "from torch import nn"
   ]
  },
  {
   "cell_type": "markdown",
   "id": "55e0f00a",
   "metadata": {},
   "source": [
    "The dataset consists of simulations of the trajectory of a single particle. The simulations are of varying length. All simulations start at t = 0 and end at t = 10 ± 1. A subset of the simulations are continued for an additional 4 ± 2 seconds, i.e. ending the entire simulation at t = 14 ± 3.\n",
    "\n",
    "There are 150 simulations for training, 100 for validation, and 100 for testing. The simulations are of 100 ± 10 steps alongside their continuation of 40 ± 20 steps."
   ]
  },
  {
   "cell_type": "markdown",
   "id": "1d68b79a",
   "metadata": {},
   "source": [
    "### ML Task:\n",
    "\n",
    "Using the positions of the particle during a simulation up to t = 10±1, continue its trajectory for an additional 4 ± 2 seconds."
   ]
  },
  {
   "cell_type": "code",
   "execution_count": 13,
   "id": "bb77a4be",
   "metadata": {
    "id": "bb77a4be"
   },
   "outputs": [],
   "source": [
    "\"\"\"\n",
    "simulation_{train, valid, test} is stored as a list of simulations. \n",
    "Each simulation is a numpy array of size (t, 2): For t timesteps an x and y coordinate of our particle.\n",
    "\"\"\"\n",
    "simulation_train =  pd.read_pickle('data/train/simulation.pickle')\n",
    "simulation_valid = pd.read_pickle('data/valid/simulation.pickle')\n",
    "simulation_test = pd.read_pickle('data/test/simulation.pickle')\n",
    "\"\"\"\n",
    "simulation_continued_{train, valid, test} is stored as a list of simulations. \n",
    "Each simulation is a numpy array of size (t, 2): For t timesteps an x and y coordinate of our particle.\n",
    "\"\"\"\n",
    "simulation_continued_train = pd.read_pickle('data/train/simulation_continued.pickle')\n",
    "simulation_continued_valid = pd.read_pickle('data/valid/simulation_continued.pickle')\n",
    "simulation_continued_test = pd.read_pickle('data/test/simulation_continued.pickle')\n",
    "\n",
    "\"\"\"\n",
    "Note that the indices are shared throughout the different lists, e.g., for the 4th training simulation:\n",
    "simulation_train[3] contains its initial simulation\n",
    "simulation_continued_train[3] contains the continuation of the simulation \n",
    "                --> simulation_continued_train[3][0] is the state after simulation_train[3][-1]\n",
    "\"\"\"\n",
    "pass"
   ]
  },
  {
   "cell_type": "code",
   "execution_count": 23,
   "id": "10a3438a",
   "metadata": {
    "colab": {
     "base_uri": "https://localhost:8080/"
    },
    "id": "10a3438a",
    "outputId": "57fd5998-7ba1-4db7-e3a8-6ed44bdac484"
   },
   "outputs": [
    {
     "name": "stdout",
     "output_type": "stream",
     "text": [
      "Overview of no. datapoints:\n",
      "\n",
      "Since len(simulation_continued_train) < len(simulation_train), thus can only use a subset of initial simulations\n",
      "simulation_train is cut down to the first 150 samples in simulation_train_task32\n",
      "150 train, 100 validation, 100 test simulations\n",
      "150 train, 100 validation, 100 test continuations\n"
     ]
    }
   ],
   "source": [
    "print('Overview of no. datapoints:\\n')\n",
    "print('Since len(simulation_continued_train) < len(simulation_train), thus can only use a subset of initial simulations')\n",
    "print('simulation_train is cut down to the first 150 samples in simulation_train_task32')\n",
    "simulation_train_task32 = simulation_train[:150]\n",
    "print(f'{len(simulation_train_task32)} train, {len(simulation_valid)} validation, {len(simulation_test)} test simulations')\n",
    "print(f'{len(simulation_continued_train)} train, {len(simulation_continued_valid)} validation, {len(simulation_continued_test)} test continuations')"
   ]
  },
  {
   "cell_type": "code",
   "execution_count": 19,
   "id": "3cfafdb3",
   "metadata": {
    "colab": {
     "base_uri": "https://localhost:8080/"
    },
    "id": "3cfafdb3",
    "outputId": "e50f9be9-51b4-4421-ff49-3b39c769775b"
   },
   "outputs": [
    {
     "name": "stdout",
     "output_type": "stream",
     "text": [
      "Print some shapes:\n",
      "\n",
      "simulation_train[0].shape: (103, 2) -> (t, 2), (x, y) at every t)\n",
      "simulation_continued_train[0].shape: (54, 2) -> (t, 2), (x, y) at every t)\n",
      "----\n",
      "\n",
      "simulation_train[1].shape: (97, 2) -> (t, 2), (x, y) at every t)\n",
      "simulation_continued_train[1].shape: (45, 2) -> (t, 2), (x, y) at every t)\n",
      "----\n",
      "\n",
      "simulation_train[2].shape: (99, 2) -> (t, 2), (x, y) at every t)\n",
      "simulation_continued_train[2].shape: (47, 2) -> (t, 2), (x, y) at every t)\n",
      "----\n",
      "\n"
     ]
    }
   ],
   "source": [
    "print('Print some shapes:\\n')\n",
    "for i in range(3):\n",
    "    print('simulation_train[{}].shape:'.format(i), simulation_train[i].shape, '-> (t, 2), (x, y) at every t)')\n",
    "    print('simulation_continued_train[{}].shape:'.format(i), simulation_continued_train[i].shape, '-> (t, 2), (x, y) at every t)')\n",
    "    print('----\\n')"
   ]
  },
  {
   "cell_type": "code",
   "execution_count": 36,
   "id": "f9106543",
   "metadata": {
    "id": "f9106543"
   },
   "outputs": [],
   "source": [
    "def plot_example(x, x_gt=None, x_pred=None, fn=None):\n",
    "    fig = plt.figure()\n",
    "    axes = plt.gca()\n",
    "    axes.set_xlim([-5., 5.])\n",
    "    axes.set_ylim([-5., 5.])\n",
    "    cmap = matplotlib.cm.get_cmap('tab20')\n",
    "    plt.plot(x[:, 0], x[:, 1], color=cmap(0))\n",
    "    plt.plot(x[0, 0], x[0, 1], 'd', color=cmap(1))\n",
    "    fig.set_size_inches(5, 5)\n",
    "    if x_gt is not None:\n",
    "        plt.plot(x_gt[:, 0], x_gt[:, 1], color='red', linewidth=.5)\n",
    "    if x_pred is not None:\n",
    "        plt.plot(x_pred[:, 0], x_pred[:, 1], color='green', linestyle='--')\n",
    "    if fn is None:\n",
    "        plt.show()\n",
    "    else:\n",
    "        plt.savefig(fn)"
   ]
  },
  {
   "cell_type": "code",
   "execution_count": 40,
   "id": "d28681a6",
   "metadata": {
    "colab": {
     "base_uri": "https://localhost:8080/",
     "height": 337
    },
    "id": "d28681a6",
    "outputId": "a4fce00b-ce10-45b0-d745-30528fe8af1b"
   },
   "outputs": [
    {
     "data": {
      "image/png": "[encoded data removed]",
      "text/plain": [
       "<Figure size 360x360 with 1 Axes>"
      ]
     },
     "metadata": {
      "needs_background": "light"
     },
     "output_type": "display_data"
    }
   ],
   "source": [
    "test_idx = np.random.randint(150)\n",
    "plot_example(simulation_train[test_idx], simulation_continued_train[test_idx])"
   ]
  },
  {
   "cell_type": "markdown",
   "id": "159a43d8",
   "metadata": {},
   "source": [
    "## Problem Formulation:"
   ]
  },
  {
   "cell_type": "markdown",
   "id": "cda9a88b",
   "metadata": {},
   "source": [
    "The task is to predict the continuation of particle $p_1$'s trajectory. Given the particle's positions during a simulation up to $10 \\pm 1$ seconds, the particle's positions for an additional $4 \\pm 2$ seconds need to be predicted. Thus, there is a need to model $f_t(position_0,..., position_{100 \\pm 10}) \\in ( \\mathbb{R}, \\mathbb{R})$ for $t \\in [(100 \\pm 10 + 20), (100 \\pm 10 + 60)]$, where $t$ is a time step in the extended simulation, and $position_0,...,position_{100 \\pm 10}$ are the positions of particle $p_1$ for the first $100 \\pm 10$ steps, and $f_t$ is the position of particle $p_1$ at at time step $t$.\n",
    "\n",
    "Based on this description, the machine learning task is to map variable length sequences to other sequences of different length, which are not aligned with the original sequence. This is a regression problem, where the $x$ and $y$-coordinates of each position needs to be predicted. Thus, suitable measures of performance are mean square error (MSE), which would measures the average squared difference between the estimated positions and the actual positions, as well as cosine similarity, which would measures the similarity between the estimated and actual positions. Therefore, a low MSE and a high cosine similarity are wanted. In these cases, it could be argued that the prediction is very close to the true positions."
   ]
  },
  {
   "cell_type": "markdown",
   "id": "f64a855d",
   "metadata": {
    "id": "f64a855d"
   },
   "source": [
    "## Data Handling and Preprocessing"
   ]
  },
  {
   "cell_type": "code",
   "execution_count": 18,
   "id": "6f574ef9",
   "metadata": {
    "id": "6f574ef9"
   },
   "outputs": [],
   "source": [
    "class PositionsDataset(Dataset):\n",
    "    def __init__(self, positions, continued_positions):\n",
    "        self.positions = positions\n",
    "        self.continued_positions = continued_positions\n",
    "        \n",
    "    def __getitem__(self, index):\n",
    "        \"\"\"\n",
    "         Given an index of a simulation, an object of this class can return a FloatT ensor of the positions of the simulation.\n",
    "        \"\"\"\n",
    "        position = torch.FloatTensor(self.positions[index])\n",
    "        continued_position = torch.FloatTensor(self.continued_positions[index])\n",
    "        return position, continued_position\n",
    "        \n",
    "    def __len__(self):\n",
    "        return len(self.continued_positions)"
   ]
  },
  {
   "cell_type": "code",
   "execution_count": 19,
   "id": "8dd6a8ca",
   "metadata": {
    "id": "8dd6a8ca"
   },
   "outputs": [],
   "source": [
    "train_dataset = PositionsDataset(simulation_train_task32, simulation_continued_train)\n",
    "valid_dataset = PositionsDataset(simulation_valid, simulation_continued_valid)\n",
    "test_dataset = PositionsDataset(simulation_test, simulation_continued_test)"
   ]
  },
  {
   "cell_type": "markdown",
   "id": "ac14f8d1",
   "metadata": {},
   "source": [
    "## Model Formulation and Implementation"
   ]
  },
  {
   "cell_type": "markdown",
   "id": "1006278f",
   "metadata": {},
   "source": [
    "A sequence to sequence model fits the task and the sequential data. Sequence to sequence models are implemented using an encoder RNN cell, which produces an encoding (representation) of the input sequence, and a decoder RNN cell, which produces the output. The encoder's hidden state at the end of the input sequence is passed to the decoder to initialize it's hidden state. The decoder performs a single step of decoding by producing the prediction for the current time step. The output sequence will not be assumed to consist of independent positions. Therefore, the previously predicted position will be passed to the decoder at each decoding step, in addition to the hidden state. Thus, it could be assumed that the error could increase as when the model predicts later timesteps. \n",
    "\n",
    "Based on these choices, the encoder in the model can formulated as $encoder(position_0,..., position_k)=h_k$, where $position_0,...,position_k$ is the input sequence of positions, and $h_k$ is the hidden state of the encoder at the last time step. The decoder can be formulated as $decoder(h_k)=position_{k+1}, h_{k+1}$ in the base case, where $position_{k+1}$ is the prediction, and $h_{k+1}$ is the new hidden state. In the general case the decoder can be formulated as $decoder(h_{i-1}, position_{i-1})= h_{i}, position_{i}$, where $h_{i-1}, position_{i-1}$ and $h_{i}, position_{i}$ are respectively the previous and new time step's hidden state and prediction. Thus, the model can predict future positions.\n",
    "\n",
    "To implement the Encoder and Decoder a GRU layer will be used. The GRU ('Gated Recurrent Unit') is a simplification of LSTM as it has only a 'reset gate' and an 'update gate'. The 'update gate' determines the information in the hidden state that should be updated, and the reset gate determines the information in the old hidden state that should be ignored when computing the update. A GRU RNN is used instead of an LSTM because  GRU is faster to train and uses less memory when training on small data sets."
   ]
  },
  {
   "cell_type": "code",
   "execution_count": 20,
   "id": "2c792648",
   "metadata": {
    "id": "2c792648"
   },
   "outputs": [],
   "source": [
    "import torch.nn as nn\n",
    "\n",
    "class Encoder(nn.Module):\n",
    "    def __init__(self, input_dim, hid_dim, output_dim, n_layers, dropout):\n",
    "        super().__init__()\n",
    "        \n",
    "        self.rnn = nn.GRU(input_dim, hid_dim, num_layers = n_layers, dropout = dropout, batch_first=True)       \n",
    "        self.fc_out = nn.Linear(hid_dim, output_dim)\n",
    "        \n",
    "    def forward(self, x):\n",
    "        out, hidden = self.rnn(x)\n",
    "        out = self.fc_out(out)\n",
    "        \n",
    "        return out, hidden"
   ]
  },
  {
   "cell_type": "code",
   "execution_count": 21,
   "id": "aa0e1760",
   "metadata": {
    "id": "aa0e1760"
   },
   "outputs": [],
   "source": [
    "class Decoder(nn.Module):\n",
    "    def __init__(self, input_dim, hid_dim, output_dim, n_layers, dropout):\n",
    "        super().__init__()\n",
    "\n",
    "        self.rnn = nn.GRU(input_dim, hid_dim, num_layers = n_layers, dropout = dropout, batch_first=True)\n",
    "        self.fc_out = nn.Linear(hid_dim, output_dim)    \n",
    "        \n",
    "    def forward(self, input_data, hidden):\n",
    "        \n",
    "        input_data = input_data.unsqueeze(0)\n",
    "        output, hidden = self.rnn(input_data, hidden)\n",
    "        prediction = self.fc_out(output.squeeze(0))\n",
    "        \n",
    "        return prediction, hidden"
   ]
  },
  {
   "cell_type": "code",
   "execution_count": 24,
   "id": "4a88a699",
   "metadata": {
    "id": "4a88a699"
   },
   "outputs": [],
   "source": [
    "import torch.optim as optim\n",
    "import random\n",
    "\n",
    "class Seq2Seq(nn.Module):\n",
    "    def __init__(self, encoder, decoder, device):\n",
    "        super().__init__()\n",
    "        \n",
    "        self.encoder = encoder\n",
    "        self.decoder = decoder\n",
    "        self.device = device\n",
    "        \n",
    "        self.optimizer = optim.Adam(self.parameters(), lr=1e-3)\n",
    "        self.criterion = nn.MSELoss()\n",
    "        \n",
    "    def forward(self, initial_data, continued_data):\n",
    "\n",
    "        batch_size = continued_data.shape[0]\n",
    "        continued_data_len = continued_data.shape[1]\n",
    "        position_dim = continued_data.shape[2]\n",
    "        \n",
    "        #tensor to store decoder outputs\n",
    "        outputs = torch.zeros(batch_size, continued_data_len, position_dim).to(self.device)\n",
    "        \n",
    "        #last hidden state of the encoder is used as the initial hidden state of the decoder\n",
    "        output, hidden = self.encoder(initial_data)\n",
    "        \n",
    "        #first input to the decoder\n",
    "        input_data = output[:, -1, :]\n",
    "        outputs[:, 0, :] = input_data\n",
    "        \n",
    "        for t in range(1, continued_data_len):\n",
    "            #pass the output of the encoder for the last time step and the hidden state\n",
    "            #receive output tensor (predictions) and new hidden and cell states\n",
    "            output, hidden = self.decoder(input_data, hidden)\n",
    "            \n",
    "            #place predictions in a tensor holding predictions for each token\n",
    "            outputs[:,t,:] = output\n",
    "            \n",
    "            input_data = output\n",
    "            \n",
    "        return outputs"
   ]
  },
  {
   "cell_type": "markdown",
   "id": "1bf8e7d7",
   "metadata": {
    "id": "1bf8e7d7"
   },
   "source": [
    "## Model Training"
   ]
  },
  {
   "cell_type": "markdown",
   "id": "60a1ee76",
   "metadata": {},
   "source": [
    "At the start of training, a DataLoader object is initialized, which takes the training data and a batch size of 1. By using a batch size of 1 simulation, the sequences of multiple simulations do not need to be padded to ensure they are of the same size. For training the model, MSE is used to compute the loss."
   ]
  },
  {
   "cell_type": "code",
   "execution_count": 24,
   "id": "8df29ae9",
   "metadata": {
    "id": "8df29ae9"
   },
   "outputs": [],
   "source": [
    "BATCH_SIZE = 1\n",
    "N_EPOCHS = 30\n",
    "N_LAYERS = 2\n",
    "INPUT_DIM = 2\n",
    "HIDDEN_DIM = 32 #dimension of the lstm's hidden state\n",
    "OUTPUT_DIM = 2\n",
    "DROPOUT = 0.5\n",
    "\n",
    "# check if gpu is available\n",
    "device = torch.device(\"cuda\" if torch.cuda.is_available() else \"cpu\")"
   ]
  },
  {
   "cell_type": "code",
   "execution_count": 25,
   "id": "1965c7a0",
   "metadata": {
    "id": "1965c7a0"
   },
   "outputs": [],
   "source": [
    "# initiate seq2seq model\n",
    "enc = Encoder(INPUT_DIM, HIDDEN_DIM, OUTPUT_DIM, N_LAYERS, DROPOUT)\n",
    "dec = Decoder(INPUT_DIM, HIDDEN_DIM, OUTPUT_DIM, N_LAYERS, DROPOUT)\n",
    "\n",
    "seq2seq = Seq2Seq(enc, dec, device).to(device)"
   ]
  },
  {
   "cell_type": "code",
   "execution_count": 26,
   "id": "eef80521",
   "metadata": {
    "colab": {
     "base_uri": "https://localhost:8080/"
    },
    "id": "eef80521",
    "outputId": "733a88e6-5ac4-4ba5-b6a6-b45b68e11dc9",
    "scrolled": true
   },
   "outputs": [
    {
     "name": "stderr",
     "output_type": "stream",
     "text": [
      "100%|██████████| 150/150 [00:11<00:00, 13.45it/s]\n"
     ]
    },
    {
     "name": "stdout",
     "output_type": "stream",
     "text": [
      "----------------------------------------------------------------------------\n",
      "| end of epoch   0 | time: 12.15s | train loss    2.802 valid loss    2.892 \n",
      "----------------------------------------------------------------------------\n"
     ]
    },
    {
     "name": "stderr",
     "output_type": "stream",
     "text": [
      "100%|██████████| 150/150 [00:10<00:00, 14.35it/s]\n"
     ]
    },
    {
     "name": "stdout",
     "output_type": "stream",
     "text": [
      "----------------------------------------------------------------------------\n",
      "| end of epoch   1 | time: 11.47s | train loss    2.355 valid loss    2.382 \n",
      "----------------------------------------------------------------------------\n"
     ]
    },
    {
     "name": "stderr",
     "output_type": "stream",
     "text": [
      "100%|██████████| 150/150 [00:10<00:00, 14.73it/s]\n"
     ]
    },
    {
     "name": "stdout",
     "output_type": "stream",
     "text": [
      "----------------------------------------------------------------------------\n",
      "| end of epoch   2 | time: 11.19s | train loss    2.068 valid loss    2.281 \n",
      "----------------------------------------------------------------------------\n"
     ]
    },
    {
     "name": "stderr",
     "output_type": "stream",
     "text": [
      "100%|██████████| 150/150 [00:10<00:00, 14.28it/s]\n"
     ]
    },
    {
     "name": "stdout",
     "output_type": "stream",
     "text": [
      "----------------------------------------------------------------------------\n",
      "| end of epoch   3 | time: 11.52s | train loss    1.955 valid loss    2.049 \n",
      "----------------------------------------------------------------------------\n"
     ]
    },
    {
     "name": "stderr",
     "output_type": "stream",
     "text": [
      "100%|██████████| 150/150 [00:10<00:00, 13.98it/s]\n"
     ]
    },
    {
     "name": "stdout",
     "output_type": "stream",
     "text": [
      "----------------------------------------------------------------------------\n",
      "| end of epoch   4 | time: 11.78s | train loss    1.869 valid loss    1.962 \n",
      "----------------------------------------------------------------------------\n"
     ]
    },
    {
     "name": "stderr",
     "output_type": "stream",
     "text": [
      "100%|██████████| 150/150 [00:10<00:00, 14.62it/s]\n"
     ]
    },
    {
     "name": "stdout",
     "output_type": "stream",
     "text": [
      "----------------------------------------------------------------------------\n",
      "| end of epoch   5 | time: 11.30s | train loss    1.783 valid loss    1.930 \n",
      "----------------------------------------------------------------------------\n"
     ]
    },
    {
     "name": "stderr",
     "output_type": "stream",
     "text": [
      "100%|██████████| 150/150 [00:10<00:00, 14.63it/s]\n"
     ]
    },
    {
     "name": "stdout",
     "output_type": "stream",
     "text": [
      "----------------------------------------------------------------------------\n",
      "| end of epoch   6 | time: 11.24s | train loss    1.711 valid loss    1.866 \n",
      "----------------------------------------------------------------------------\n"
     ]
    },
    {
     "name": "stderr",
     "output_type": "stream",
     "text": [
      "100%|██████████| 150/150 [00:10<00:00, 14.00it/s]\n"
     ]
    },
    {
     "name": "stdout",
     "output_type": "stream",
     "text": [
      "----------------------------------------------------------------------------\n",
      "| end of epoch   7 | time: 11.72s | train loss    1.643 valid loss    1.784 \n",
      "----------------------------------------------------------------------------\n"
     ]
    },
    {
     "name": "stderr",
     "output_type": "stream",
     "text": [
      "100%|██████████| 150/150 [00:10<00:00, 14.52it/s]\n"
     ]
    },
    {
     "name": "stdout",
     "output_type": "stream",
     "text": [
      "----------------------------------------------------------------------------\n",
      "| end of epoch   8 | time: 11.46s | train loss    1.550 valid loss    1.750 \n",
      "----------------------------------------------------------------------------\n"
     ]
    },
    {
     "name": "stderr",
     "output_type": "stream",
     "text": [
      "100%|██████████| 150/150 [00:10<00:00, 14.01it/s]\n"
     ]
    },
    {
     "name": "stdout",
     "output_type": "stream",
     "text": [
      "----------------------------------------------------------------------------\n",
      "| end of epoch   9 | time: 11.71s | train loss    1.422 valid loss    1.751 \n",
      "----------------------------------------------------------------------------\n"
     ]
    },
    {
     "name": "stderr",
     "output_type": "stream",
     "text": [
      "100%|██████████| 150/150 [00:10<00:00, 14.72it/s]\n"
     ]
    },
    {
     "name": "stdout",
     "output_type": "stream",
     "text": [
      "----------------------------------------------------------------------------\n",
      "| end of epoch  10 | time: 11.20s | train loss    1.263 valid loss    1.569 \n",
      "----------------------------------------------------------------------------\n"
     ]
    },
    {
     "name": "stderr",
     "output_type": "stream",
     "text": [
      "100%|██████████| 150/150 [00:10<00:00, 14.67it/s]\n"
     ]
    },
    {
     "name": "stdout",
     "output_type": "stream",
     "text": [
      "----------------------------------------------------------------------------\n",
      "| end of epoch  11 | time: 11.25s | train loss    1.146 valid loss    1.506 \n",
      "----------------------------------------------------------------------------\n"
     ]
    },
    {
     "name": "stderr",
     "output_type": "stream",
     "text": [
      "100%|██████████| 150/150 [00:10<00:00, 14.49it/s]\n"
     ]
    },
    {
     "name": "stdout",
     "output_type": "stream",
     "text": [
      "----------------------------------------------------------------------------\n",
      "| end of epoch  12 | time: 11.36s | train loss    1.017 valid loss    1.279 \n",
      "----------------------------------------------------------------------------\n"
     ]
    },
    {
     "name": "stderr",
     "output_type": "stream",
     "text": [
      "100%|██████████| 150/150 [00:10<00:00, 14.51it/s]\n"
     ]
    },
    {
     "name": "stdout",
     "output_type": "stream",
     "text": [
      "----------------------------------------------------------------------------\n",
      "| end of epoch  13 | time: 11.33s | train loss    0.951 valid loss    1.198 \n",
      "----------------------------------------------------------------------------\n"
     ]
    },
    {
     "name": "stderr",
     "output_type": "stream",
     "text": [
      "100%|██████████| 150/150 [00:10<00:00, 13.77it/s]\n"
     ]
    },
    {
     "name": "stdout",
     "output_type": "stream",
     "text": [
      "----------------------------------------------------------------------------\n",
      "| end of epoch  14 | time: 12.21s | train loss    0.863 valid loss    1.050 \n",
      "----------------------------------------------------------------------------\n"
     ]
    },
    {
     "name": "stderr",
     "output_type": "stream",
     "text": [
      "100%|██████████| 150/150 [00:10<00:00, 14.24it/s]\n"
     ]
    },
    {
     "name": "stdout",
     "output_type": "stream",
     "text": [
      "----------------------------------------------------------------------------\n",
      "| end of epoch  15 | time: 11.53s | train loss    0.800 valid loss    1.020 \n",
      "----------------------------------------------------------------------------\n"
     ]
    },
    {
     "name": "stderr",
     "output_type": "stream",
     "text": [
      "100%|██████████| 150/150 [00:10<00:00, 14.44it/s]\n"
     ]
    },
    {
     "name": "stdout",
     "output_type": "stream",
     "text": [
      "----------------------------------------------------------------------------\n",
      "| end of epoch  16 | time: 11.40s | train loss    0.754 valid loss    0.992 \n",
      "----------------------------------------------------------------------------\n"
     ]
    },
    {
     "name": "stderr",
     "output_type": "stream",
     "text": [
      "100%|██████████| 150/150 [00:10<00:00, 14.01it/s]\n"
     ]
    },
    {
     "name": "stdout",
     "output_type": "stream",
     "text": [
      "----------------------------------------------------------------------------\n",
      "| end of epoch  17 | time: 11.70s | train loss    0.690 valid loss    0.990 \n",
      "----------------------------------------------------------------------------\n"
     ]
    },
    {
     "name": "stderr",
     "output_type": "stream",
     "text": [
      "100%|██████████| 150/150 [00:10<00:00, 14.42it/s]\n"
     ]
    },
    {
     "name": "stdout",
     "output_type": "stream",
     "text": [
      "----------------------------------------------------------------------------\n",
      "| end of epoch  18 | time: 11.41s | train loss    0.620 valid loss    0.857 \n",
      "----------------------------------------------------------------------------\n"
     ]
    },
    {
     "name": "stderr",
     "output_type": "stream",
     "text": [
      "100%|██████████| 150/150 [00:10<00:00, 14.31it/s]\n"
     ]
    },
    {
     "name": "stdout",
     "output_type": "stream",
     "text": [
      "----------------------------------------------------------------------------\n",
      "| end of epoch  19 | time: 11.50s | train loss    0.603 valid loss    0.923 \n",
      "----------------------------------------------------------------------------\n"
     ]
    },
    {
     "name": "stderr",
     "output_type": "stream",
     "text": [
      "100%|██████████| 150/150 [00:10<00:00, 14.59it/s]\n"
     ]
    },
    {
     "name": "stdout",
     "output_type": "stream",
     "text": [
      "----------------------------------------------------------------------------\n",
      "| end of epoch  20 | time: 11.27s | train loss    0.524 valid loss    0.878 \n",
      "----------------------------------------------------------------------------\n"
     ]
    },
    {
     "name": "stderr",
     "output_type": "stream",
     "text": [
      "100%|██████████| 150/150 [00:10<00:00, 14.33it/s]\n"
     ]
    },
    {
     "name": "stdout",
     "output_type": "stream",
     "text": [
      "----------------------------------------------------------------------------\n",
      "| end of epoch  21 | time: 11.49s | train loss    0.495 valid loss    0.837 \n",
      "----------------------------------------------------------------------------\n"
     ]
    },
    {
     "name": "stderr",
     "output_type": "stream",
     "text": [
      "100%|██████████| 150/150 [00:10<00:00, 14.41it/s]\n"
     ]
    },
    {
     "name": "stdout",
     "output_type": "stream",
     "text": [
      "----------------------------------------------------------------------------\n",
      "| end of epoch  22 | time: 11.57s | train loss    0.471 valid loss    0.780 \n",
      "----------------------------------------------------------------------------\n"
     ]
    },
    {
     "name": "stderr",
     "output_type": "stream",
     "text": [
      "100%|██████████| 150/150 [00:10<00:00, 14.35it/s]\n"
     ]
    },
    {
     "name": "stdout",
     "output_type": "stream",
     "text": [
      "----------------------------------------------------------------------------\n",
      "| end of epoch  23 | time: 11.48s | train loss    0.444 valid loss    0.779 \n",
      "----------------------------------------------------------------------------\n"
     ]
    },
    {
     "name": "stderr",
     "output_type": "stream",
     "text": [
      "100%|██████████| 150/150 [00:10<00:00, 14.96it/s]\n"
     ]
    },
    {
     "name": "stdout",
     "output_type": "stream",
     "text": [
      "----------------------------------------------------------------------------\n",
      "| end of epoch  24 | time: 11.07s | train loss    0.449 valid loss    0.744 \n",
      "----------------------------------------------------------------------------\n"
     ]
    },
    {
     "name": "stderr",
     "output_type": "stream",
     "text": [
      "100%|██████████| 150/150 [00:10<00:00, 14.34it/s]\n"
     ]
    },
    {
     "name": "stdout",
     "output_type": "stream",
     "text": [
      "----------------------------------------------------------------------------\n",
      "| end of epoch  25 | time: 11.48s | train loss    0.432 valid loss    0.791 \n",
      "----------------------------------------------------------------------------\n"
     ]
    },
    {
     "name": "stderr",
     "output_type": "stream",
     "text": [
      "100%|██████████| 150/150 [00:10<00:00, 13.92it/s]\n"
     ]
    },
    {
     "name": "stdout",
     "output_type": "stream",
     "text": [
      "----------------------------------------------------------------------------\n",
      "| end of epoch  26 | time: 11.79s | train loss    0.378 valid loss    0.722 \n",
      "----------------------------------------------------------------------------\n"
     ]
    },
    {
     "name": "stderr",
     "output_type": "stream",
     "text": [
      "100%|██████████| 150/150 [00:10<00:00, 14.03it/s]\n"
     ]
    },
    {
     "name": "stdout",
     "output_type": "stream",
     "text": [
      "----------------------------------------------------------------------------\n",
      "| end of epoch  27 | time: 11.71s | train loss    0.379 valid loss    0.676 \n",
      "----------------------------------------------------------------------------\n"
     ]
    },
    {
     "name": "stderr",
     "output_type": "stream",
     "text": [
      "100%|██████████| 150/150 [00:10<00:00, 13.97it/s]\n"
     ]
    },
    {
     "name": "stdout",
     "output_type": "stream",
     "text": [
      "----------------------------------------------------------------------------\n",
      "| end of epoch  28 | time: 11.92s | train loss    0.382 valid loss    0.753 \n",
      "----------------------------------------------------------------------------\n"
     ]
    },
    {
     "name": "stderr",
     "output_type": "stream",
     "text": [
      "100%|██████████| 150/150 [00:10<00:00, 13.96it/s]\n"
     ]
    },
    {
     "name": "stdout",
     "output_type": "stream",
     "text": [
      "----------------------------------------------------------------------------\n",
      "| end of epoch  29 | time: 11.78s | train loss    0.350 valid loss    0.685 \n",
      "----------------------------------------------------------------------------\n"
     ]
    }
   ],
   "source": [
    "import time\n",
    "from tqdm import tqdm\n",
    "\n",
    "def train(train_dataset):\n",
    "    epoch_loss = 0\n",
    "    seq2seq.train()\n",
    "    dataloader = DataLoader(train_dataset, batch_size=BATCH_SIZE)\n",
    "\n",
    "    for i, (sim_train, sim_cont_train) in enumerate(tqdm(dataloader)):\n",
    "        seq2seq.optimizer.zero_grad()\n",
    "        output = seq2seq(sim_train.to(device), sim_cont_train.to(device))\n",
    "        loss = seq2seq.criterion(output, sim_cont_train.to(device))\n",
    "        loss.backward()\n",
    "        seq2seq.optimizer.step()\n",
    "        epoch_loss += loss.item()\n",
    "        torch.cuda.empty_cache()\n",
    "\n",
    "    return epoch_loss / len(dataloader)\n",
    "\n",
    "\n",
    "def evaluate(valid_dataset):\n",
    "    epoch_loss = 0\n",
    "    seq2seq.eval()\n",
    "    dataloader = DataLoader(valid_dataset, batch_size=BATCH_SIZE)\n",
    "\n",
    "    with torch.no_grad():\n",
    "        for i, (sim_valid, sim_cont_valid) in enumerate(dataloader):\n",
    "            output = seq2seq(sim_valid.to(device), sim_cont_valid.to(device))\n",
    "            loss = seq2seq.criterion(output, sim_cont_valid.to(device))\n",
    "            epoch_loss += loss.item()\n",
    "            torch.cuda.empty_cache()\n",
    "    \n",
    "    return epoch_loss / len(dataloader)\n",
    "\n",
    "\n",
    "best_valid_loss = float('inf')\n",
    "train_loss_arr = []\n",
    "val_loss_arr = []\n",
    "\n",
    "for epoch in range(N_EPOCHS):\n",
    "    epoch_start_time = time.time()\n",
    "    train_loss = train(train_dataset)\n",
    "    val_loss = evaluate(valid_dataset)\n",
    "    train_loss_arr.append(train_loss)\n",
    "    val_loss_arr.append(val_loss)\n",
    "    \n",
    "    if val_loss < best_valid_loss:\n",
    "        best_valid_loss = val_loss\n",
    "        torch.save(seq2seq.state_dict(), 'seq2seq_model.pt')\n",
    "    \n",
    "    print('-' * 76)\n",
    "    print('| end of epoch {:3d} | time: {:5.2f}s | '\n",
    "          'train loss {:8.3f} '\n",
    "          'valid loss {:8.3f} '.format(epoch,\n",
    "                                           time.time() - epoch_start_time, \n",
    "                                           train_loss_arr[-1],\n",
    "                                           val_loss_arr[-1]))\n",
    "    print('-' * 76)"
   ]
  },
  {
   "cell_type": "code",
   "execution_count": 27,
   "id": "4750e3a3",
   "metadata": {
    "colab": {
     "base_uri": "https://localhost:8080/",
     "height": 609
    },
    "id": "4750e3a3",
    "outputId": "ef46d209-8b85-4893-b4a1-433f4f4a69f8"
   },
   "outputs": [
    {
     "data": {
      "image/png": "[encoded data removed]",
      "text/plain": [
       "<Figure size 1152x648 with 1 Axes>"
      ]
     },
     "metadata": {},
     "output_type": "display_data"
    }
   ],
   "source": [
    "import seaborn as sns\n",
    "\n",
    "sns.set_theme(style=\"whitegrid\")\n",
    "sns.set_style(\"whitegrid\")\n",
    "sns.set_context(\"poster\")\n",
    "# Plot trained loss values\n",
    "fig, ax = plt.subplots(figsize=(16, 9))\n",
    "ax.plot(train_loss_arr, color='blue', label='Training Loss')\n",
    "ax.plot(val_loss_arr, color='red', label='Validation Loss')\n",
    "\n",
    "ax.set_title('Training (Blue) and Validation (Red) loss')\n",
    "ax.set_xlabel('Epoch')\n",
    "ax.set_ylabel('Loss')\n",
    "# plt.savefig('3-2:training_loss.png')\n",
    "plt.show()"
   ]
  },
  {
   "cell_type": "markdown",
   "id": "5dc0864d",
   "metadata": {},
   "source": [
    "## Evaluation"
   ]
  },
  {
   "cell_type": "markdown",
   "id": "99ae896e",
   "metadata": {},
   "source": [
    "Cosine similarity measures the similarity between the estimated and actual positions. The cosine similarity is a number between 0 and 1, where a number close to 1 indicates a high similarity.\n",
    "\n",
    "MSE measures the average squared difference between the estimated future positions and the actual future positions. Thus, the ideal value for MSE would be 0.\n",
    "\n",
    "To further evaluate the performance of the model, the best and the worst future position estimations of the model are plotted, along with the real future positions. To obtain the ranking of the estimates, the MSE obtained for each simulation were used. The best estimate is the one with the lowest MSE, while the worst is the one with the highest."
   ]
  },
  {
   "cell_type": "code",
   "execution_count": 28,
   "id": "51695d9c",
   "metadata": {
    "id": "51695d9c"
   },
   "outputs": [],
   "source": [
    "def test_performance(test_dataset):\n",
    "    seq2seq.load_state_dict(torch.load('seq2seq_model.pt'))\n",
    "    seq2seq.eval()\n",
    "    \n",
    "    test_loss = []\n",
    "    test_similarity = []\n",
    "    cos = nn.CosineSimilarity(dim=1, eps=1e-6)\n",
    "    \n",
    "    dataloader = DataLoader(test_dataset, batch_size=BATCH_SIZE)\n",
    "    pred = []\n",
    "    \n",
    "    with torch.no_grad():\n",
    "    \n",
    "        for i, (sim_test, sim_cont_test) in enumerate(dataloader):\n",
    "            output = seq2seq(sim_test.to(device), sim_cont_test.to(device))\n",
    "            \n",
    "            similarity = cos(output, sim_cont_test.to(device)).mean() \n",
    "            test_similarity.append(similarity.item())\n",
    "            \n",
    "            loss = seq2seq.criterion(output, sim_cont_test.to(device))\n",
    "            test_loss.append(loss.item())\n",
    "            \n",
    "            pred.append(output)\n",
    "            \n",
    "            torch.cuda.empty_cache()\n",
    "\n",
    "        print(f'TEST COSINE SIMILARITY: {np.mean(test_similarity):.4f}',end=' ')\n",
    "        print(f'TEST MSE: {np.mean(test_loss):.4f}',end=' ')\n",
    "        print()\n",
    "        \n",
    "        return test_loss, pred"
   ]
  },
  {
   "cell_type": "code",
   "execution_count": 29,
   "id": "528145ea",
   "metadata": {
    "colab": {
     "base_uri": "https://localhost:8080/",
     "height": 1000
    },
    "id": "528145ea",
    "outputId": "ba75ba84-297e-4a4b-9432-3b3406140650"
   },
   "outputs": [
    {
     "name": "stdout",
     "output_type": "stream",
     "text": [
      "TEST SIMILARITY: 0.8425 TEST MSE: 0.7068 \n",
      "Best prediction:\n",
      "Truth:\n"
     ]
    },
    {
     "data": {
      "image/png": "[encoded data removed]",
      "text/plain": [
       "<Figure size 360x360 with 1 Axes>"
      ]
     },
     "metadata": {},
     "output_type": "display_data"
    },
    {
     "name": "stdout",
     "output_type": "stream",
     "text": [
      "Prediction:\n"
     ]
    },
    {
     "data": {
      "image/png": "[encoded data removed]",
      "text/plain": [
       "<Figure size 360x360 with 1 Axes>"
      ]
     },
     "metadata": {},
     "output_type": "display_data"
    },
    {
     "name": "stdout",
     "output_type": "stream",
     "text": [
      "\n",
      "Worst prediction:\n",
      "Truth:\n"
     ]
    },
    {
     "data": {
      "image/png": "[encoded data removed]",
      "text/plain": [
       "<Figure size 360x360 with 1 Axes>"
      ]
     },
     "metadata": {},
     "output_type": "display_data"
    },
    {
     "name": "stdout",
     "output_type": "stream",
     "text": [
      "Prediction:\n"
     ]
    },
    {
     "data": {
      "image/png": "[encoded data removed]",
      "text/plain": [
       "<Figure size 360x360 with 1 Axes>"
      ]
     },
     "metadata": {},
     "output_type": "display_data"
    }
   ],
   "source": [
    "test_loss, predictions = test_performance(test_dataset)\n",
    "ranked_simulations = sorted(range(len(test_loss)), key=lambda k: test_loss[k])\n",
    "\n",
    "print('Best prediction:')\n",
    "print('Truth:')\n",
    "plot_example(simulation_test[ranked_simulations[0]], simulation_continued_test[ranked_simulations[0]])\n",
    "print('Prediction:')\n",
    "plot_example(simulation_test[ranked_simulations[0]], np.array(predictions[ranked_simulations[0]][0].cpu().numpy()))\n",
    "\n",
    "print()\n",
    "\n",
    "print('Worst prediction:')\n",
    "print('Truth:')\n",
    "plot_example(simulation_test[ranked_simulations[-1]], simulation_continued_test[ranked_simulations[-1]])\n",
    "print('Prediction:')\n",
    "plot_example(simulation_test[ranked_simulations[-1]], np.array(predictions[ranked_simulations[-1]][0].cpu().numpy()))"
   ]
  },
  {
   "cell_type": "markdown",
   "id": "91a19384",
   "metadata": {
    "id": "91a19384"
   },
   "source": [
    "## Linear Baseline:\n",
    "\n",
    "A linear baseline was implemented, which estimates the future positions for each simulation, by the following rule: $p_t = p_t + (p_t - p_{t-1})$. After all future position estimates are made for a simulation, the cosine similarity and the MSE between the estimates and the true positions are computed."
   ]
  },
  {
   "cell_type": "code",
   "execution_count": 30,
   "id": "905ea2de",
   "metadata": {
    "colab": {
     "base_uri": "https://localhost:8080/"
    },
    "id": "905ea2de",
    "outputId": "182d9658-94e2-4408-cb1a-29da41692c64"
   },
   "outputs": [
    {
     "name": "stdout",
     "output_type": "stream",
     "text": [
      "Baseline SIMILARITY: 0.7543 Baseline MSE: 2.8848 "
     ]
    }
   ],
   "source": [
    "# Linear baseline\n",
    "criterion = lambda x,y: np.square(np.subtract(x, y)).mean()\n",
    "cos = lambda x,y: (x * y).sum(axis=1) / np.linalg.norm(x, axis=1) / np.linalg.norm(y, axis=1)\n",
    "\n",
    "baseline_losses = []\n",
    "baseline_similarity = []\n",
    "predictions = []\n",
    "\n",
    "for simulation in range(len(simulation_test)):\n",
    "    xt = simulation_test[simulation][-1]\n",
    "    xt2 = simulation_test[simulation][-2]\n",
    "    pred = []\n",
    "    for timestep in range(len(simulation_continued_test[simulation])):\n",
    "        new_xt = xt + (xt - xt2)\n",
    "        new_xt2 = xt\n",
    "        \n",
    "        pred.append(new_xt)\n",
    "        \n",
    "        xt = new_xt\n",
    "        xt2 = new_xt2\n",
    "\n",
    "    loss = criterion(pred, simulation_continued_test[simulation])\n",
    "    baseline_losses.append(loss)\n",
    "    similarity = cos(np.array(pred), np.array(simulation_continued_test[simulation])).mean()\n",
    "    baseline_similarity.append(similarity)\n",
    "    \n",
    "    predictions.append(pred)\n",
    "      \n",
    "print(f'Baseline SIMILARITY: {np.mean(baseline_similarity):.4f}',end=' ')\n",
    "print(f'Baseline MSE: {np.mean(baseline_losses):.4f}',end=' ')"
   ]
  },
  {
   "cell_type": "markdown",
   "id": "d4b55665",
   "metadata": {},
   "source": [
    "The cosine similarity of the baseline is slightly lower than the one obtained by the Seq2Seq model. However, the Seq2Seq model has a much better MSE result."
   ]
  },
  {
   "cell_type": "code",
   "execution_count": 31,
   "id": "db68d949",
   "metadata": {
    "colab": {
     "base_uri": "https://localhost:8080/",
     "height": 1000
    },
    "id": "db68d949",
    "outputId": "1e6a6615-14e0-4cac-9480-54c4332da2ea"
   },
   "outputs": [
    {
     "name": "stdout",
     "output_type": "stream",
     "text": [
      "Best prediction:\n",
      "Truth:\n"
     ]
    },
    {
     "data": {
      "image/png": "[encoded data removed]",
      "text/plain": [
       "<Figure size 360x360 with 1 Axes>"
      ]
     },
     "metadata": {},
     "output_type": "display_data"
    },
    {
     "name": "stdout",
     "output_type": "stream",
     "text": [
      "Prediction:\n"
     ]
    },
    {
     "data": {
      "image/png": "[encoded data removed]",
      "text/plain": [
       "<Figure size 360x360 with 1 Axes>"
      ]
     },
     "metadata": {},
     "output_type": "display_data"
    },
    {
     "name": "stdout",
     "output_type": "stream",
     "text": [
      "\n",
      "Worst prediction:\n",
      "Truth:\n"
     ]
    },
    {
     "data": {
      "image/png": "[encoded data removed]",
      "text/plain": [
       "<Figure size 360x360 with 1 Axes>"
      ]
     },
     "metadata": {},
     "output_type": "display_data"
    },
    {
     "name": "stdout",
     "output_type": "stream",
     "text": [
      "Prediction:\n"
     ]
    },
    {
     "data": {
      "image/png": "[encoded data removed]",
      "text/plain": [
       "<Figure size 360x360 with 1 Axes>"
      ]
     },
     "metadata": {},
     "output_type": "display_data"
    }
   ],
   "source": [
    "ranked_simulations = sorted(range(len(baseline_losses)), key=lambda k: baseline_losses[k])\n",
    "\n",
    "print('Best prediction:')\n",
    "print('Truth:')\n",
    "plot_example(simulation_test[ranked_simulations[0]], simulation_continued_test[ranked_simulations[0]])\n",
    "print('Prediction:')\n",
    "plot_example(simulation_test[ranked_simulations[0]], np.array(predictions[ranked_simulations[0]]))\n",
    "\n",
    "print()\n",
    "\n",
    "print('Worst prediction:')\n",
    "print('Truth:')\n",
    "plot_example(simulation_test[ranked_simulations[-1]], simulation_continued_test[ranked_simulations[-1]])\n",
    "print('Prediction:')\n",
    "plot_example(simulation_test[ranked_simulations[-1]], np.array(predictions[ranked_simulations[-1]]))"
   ]
  },
  {
   "cell_type": "markdown",
   "id": "5ee3e2d6",
   "metadata": {},
   "source": [
    "It can be seen that although the linear baseline can estimate cases, where the real future trajectory is a straight line, it cannot capture complex trajectories."
   ]
  }
 ],
 "metadata": {
  "colab": {
   "collapsed_sections": [],
   "name": "Assignment_3.ipynb",
   "provenance": []
  },
  "interpreter": {
   "hash": "916dbcbb3f70747c44a77c7bcd40155683ae19c65e1c03b4aa3499c5328201f1"
  },
  "kernelspec": {
   "display_name": "Python 3 (ipykernel)",
   "language": "python",
   "name": "python3"
  },
  "language_info": {
   "codemirror_mode": {
    "name": "ipython",
    "version": 3
   },
   "file_extension": ".py",
   "mimetype": "text/x-python",
   "name": "python",
   "nbconvert_exporter": "python",
   "pygments_lexer": "ipython3",
   "version": "3.9.7"
  }
 },
 "nbformat": 4,
 "nbformat_minor": 5
}
